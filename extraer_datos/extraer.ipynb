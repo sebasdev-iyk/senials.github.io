{
 "cells": [
  {
   "cell_type": "code",
   "execution_count": null,
   "id": "1d15e27a",
   "metadata": {
    "vscode": {
     "languageId": "plaintext"
    }
   },
   "outputs": [],
   "source": [
    "import cv2\n",
    "import mediapipe as mp\n",
    "import os\n",
    "import numpy as np"
   ]
  },
  {
   "cell_type": "code",
   "execution_count": null,
   "id": "9afc3b04",
   "metadata": {
    "vscode": {
     "languageId": "plaintext"
    }
   },
   "outputs": [],
   "source": [
    "# Ruta al dataset\n",
    "manos = '/content/manos'"
   ]
  },
  {
   "cell_type": "code",
   "execution_count": null,
   "id": "aec755f2",
   "metadata": {
    "vscode": {
     "languageId": "plaintext"
    }
   },
   "outputs": [],
   "source": [
    "hands = mp.solutions.hands.Hands(\n",
    "    static_image_mode=True,\n",
    "    max_num_hands=1,\n",
    "    min_detection_confidence=0.5\n",
    ")"
   ]
  },
  {
   "cell_type": "code",
   "execution_count": null,
   "id": "008ca70a",
   "metadata": {
    "vscode": {
     "languageId": "plaintext"
    }
   },
   "outputs": [],
   "source": [
    "data = []\n",
    "labels = []"
   ]
  },
  {
   "cell_type": "code",
   "execution_count": null,
   "id": "b7281fd5",
   "metadata": {
    "vscode": {
     "languageId": "plaintext"
    }
   },
   "outputs": [],
   "source": [
    "def extract_landmarks(image_path, label):\n",
    "    # Leer la imagen desde la ruta proporcionada\n",
    "    imagen = cv2.imread(image_path)  # [[1]]\n",
    "\n",
    "    # Convertir la imagen de espacio de color BGR a RGB\n",
    "    imagen_rgb = cv2.cvtColor(imagen, cv2.COLOR_BGR2RGB)  # [[1]]\n",
    "\n",
    "    # Procesar la imagen para detectar landmarks (usando un modelo previamente cargado, como MediaPipe)\n",
    "    result = hands.process(imagen_rgb)\n",
    "\n",
    "    # Extraer coordenadas de los landmarks si se detectan manos\n",
    "    if result.multi_hand_landmarks:\n",
    "        for hand_landmarks in result.multi_hand_landmarks:\n",
    "            landmarks = []\n",
    "            for landmark in hand_landmarks.landmark:\n",
    "                # Guardar coordenadas normalizadas (x, y, z)\n",
    "                landmarks.extend([landmark.x, landmark.y, landmark.z])\n",
    "            # Agregar landmarks a una lista global 'data' y etiquetas a 'labels'\n",
    "            data.append(landmarks)\n",
    "            labels.append(label)"
   ]
  },
  {
   "cell_type": "code",
   "execution_count": null,
   "id": "7243dd61",
   "metadata": {
    "vscode": {
     "languageId": "plaintext"
    }
   },
   "outputs": [],
   "source": [
    "# Obtener carpetas de gestos (ejemplo: 'gesto1', 'gesto2', etc.)\n",
    "gesture_folders = [\n",
    "    f for f in os.listdir(manos)\n",
    "    if os.path.isdir(os.path.join(manos, f))\n",
    "]"
   ]
  },
  {
   "cell_type": "code",
   "execution_count": null,
   "id": "05a56b84",
   "metadata": {
    "vscode": {
     "languageId": "plaintext"
    }
   },
   "outputs": [],
   "source": [
    "for label in gesture_folders:  # Iterar sobre cada carpeta de gestos (ej. \"gesto1\", \"gesto2\")\n",
    "    folder_path = os.path.join(manos, label)  # Construir la ruta completa de la carpeta\n",
    "    print(f\"Procesando carpeta '{label}'...\")  # Mensaje de progreso\n",
    "\n",
    "    for filename in os.listdir(folder_path):  # Listar archivos en la carpeta\n",
    "        image_path = os.path.join(folder_path, filename)  # Ruta completa de la imagen\n",
    "        extract_landmarks(image_path, label)  # Extraer landmarks y etiquetar datos"
   ]
  },
  {
   "cell_type": "code",
   "execution_count": null,
   "id": "52b03c4f",
   "metadata": {
    "vscode": {
     "languageId": "plaintext"
    }
   },
   "outputs": [],
   "source": [
    "np.save('X_hand_landmarks.npy',data)\n",
    "np.save('y_labels.npy',labels)"
   ]
  }
 ],
 "metadata": {
  "language_info": {
   "name": "python"
  }
 },
 "nbformat": 4,
 "nbformat_minor": 5
}
